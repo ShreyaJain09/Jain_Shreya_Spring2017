{
 "cells": [
  {
   "cell_type": "markdown",
   "metadata": {},
   "source": [
    "# Question 6 \n",
    "-Under Inaugural Address package -For every president, find out how many unique words they used in speech. \n",
    "-We will just assume that President Bush means one person (technically it is incorrect but we will ignore it)"
   ]
  },
  {
   "cell_type": "code",
   "execution_count": 2,
   "metadata": {
    "collapsed": false
   },
   "outputs": [
    {
     "name": "stdout",
     "output_type": "stream",
     "text": [
      "['1789-Washington.txt', '1793-Washington.txt', '1797-Adams.txt', '1801-Jefferson.txt', '1805-Jefferson.txt', '1809-Madison.txt', '1813-Madison.txt', '1817-Monroe.txt', '1821-Monroe.txt', '1825-Adams.txt', '1829-Jackson.txt', '1833-Jackson.txt', '1837-VanBuren.txt', '1841-Harrison.txt', '1845-Polk.txt', '1849-Taylor.txt', '1853-Pierce.txt', '1857-Buchanan.txt', '1861-Lincoln.txt', '1865-Lincoln.txt', '1869-Grant.txt', '1873-Grant.txt', '1877-Hayes.txt', '1881-Garfield.txt', '1885-Cleveland.txt', '1889-Harrison.txt', '1893-Cleveland.txt', '1897-McKinley.txt', '1901-McKinley.txt', '1905-Roosevelt.txt', '1909-Taft.txt', '1913-Wilson.txt', '1917-Wilson.txt', '1921-Harding.txt', '1925-Coolidge.txt', '1929-Hoover.txt', '1933-Roosevelt.txt', '1937-Roosevelt.txt', '1941-Roosevelt.txt', '1945-Roosevelt.txt', '1949-Truman.txt', '1953-Eisenhower.txt', '1957-Eisenhower.txt', '1961-Kennedy.txt', '1965-Johnson.txt', '1969-Nixon.txt', '1973-Nixon.txt', '1977-Carter.txt', '1981-Reagan.txt', '1985-Reagan.txt', '1989-Bush.txt', '1993-Clinton.txt', '1997-Clinton.txt', '2001-Bush.txt', '2005-Bush.txt', '2009-Obama.txt']\n"
     ]
    }
   ],
   "source": [
    "import nltk\n",
    "from nltk.corpus import inaugural\n",
    "pat=inaugural.fileids()\n",
    "print(pat)"
   ]
  },
  {
   "cell_type": "code",
   "execution_count": 8,
   "metadata": {
    "collapsed": false
   },
   "outputs": [
    {
     "name": "stdout",
     "output_type": "stream",
     "text": [
      " The number of Unique words in  1789-Washington are  604\n",
      " The number of Unique words in  1793-Washington are  95\n",
      " The number of Unique words in  1797-Adams are  803\n",
      " The number of Unique words in  1801-Jefferson are  687\n",
      " The number of Unique words in  1805-Jefferson are  783\n",
      " The number of Unique words in  1809-Madison are  526\n",
      " The number of Unique words in  1813-Madison are  524\n",
      " The number of Unique words in  1817-Monroe are  987\n",
      " The number of Unique words in  1821-Monroe are  1213\n",
      " The number of Unique words in  1825-Adams are  972\n",
      " The number of Unique words in  1829-Jackson are  504\n",
      " The number of Unique words in  1833-Jackson are  482\n",
      " The number of Unique words in  1837-VanBuren are  1267\n",
      " The number of Unique words in  1841-Harrison are  1813\n",
      " The number of Unique words in  1845-Polk are  1267\n",
      " The number of Unique words in  1849-Taylor are  488\n",
      " The number of Unique words in  1853-Pierce are  1124\n",
      " The number of Unique words in  1857-Buchanan are  902\n",
      " The number of Unique words in  1861-Lincoln are  1019\n",
      " The number of Unique words in  1865-Lincoln are  345\n",
      " The number of Unique words in  1869-Grant are  474\n",
      " The number of Unique words in  1873-Grant are  530\n",
      " The number of Unique words in  1877-Hayes are  808\n",
      " The number of Unique words in  1881-Garfield are  981\n",
      " The number of Unique words in  1885-Cleveland are  650\n",
      " The number of Unique words in  1889-Harrison are  1313\n",
      " The number of Unique words in  1893-Cleveland are  799\n",
      " The number of Unique words in  1897-McKinley are  1199\n",
      " The number of Unique words in  1901-McKinley are  828\n",
      " The number of Unique words in  1905-Roosevelt are  388\n",
      " The number of Unique words in  1909-Taft are  1385\n",
      " The number of Unique words in  1913-Wilson are  637\n",
      " The number of Unique words in  1917-Wilson are  529\n",
      " The number of Unique words in  1921-Harding are  1126\n",
      " The number of Unique words in  1925-Coolidge are  1164\n",
      " The number of Unique words in  1929-Hoover are  998\n",
      " The number of Unique words in  1933-Roosevelt are  715\n",
      " The number of Unique words in  1937-Roosevelt are  698\n",
      " The number of Unique words in  1941-Roosevelt are  502\n",
      " The number of Unique words in  1945-Roosevelt are  270\n",
      " The number of Unique words in  1949-Truman are  745\n",
      " The number of Unique words in  1953-Eisenhower are  864\n",
      " The number of Unique words in  1957-Eisenhower are  592\n",
      " The number of Unique words in  1961-Kennedy are  546\n",
      " The number of Unique words in  1965-Johnson are  538\n",
      " The number of Unique words in  1969-Nixon are  714\n",
      " The number of Unique words in  1973-Nixon are  516\n",
      " The number of Unique words in  1977-Carter are  504\n",
      " The number of Unique words in  1981-Reagan are  855\n",
      " The number of Unique words in  1985-Reagan are  876\n",
      " The number of Unique words in  1989-Bush are  754\n",
      " The number of Unique words in  1993-Clinton are  604\n",
      " The number of Unique words in  1997-Clinton are  727\n",
      " The number of Unique words in  2001-Bush are  593\n",
      " The number of Unique words in  2005-Bush are  742\n",
      " The number of Unique words in  2009-Obama are  900\n"
     ]
    }
   ],
   "source": [
    "from os.path import basename\n",
    "from os.path import splitext\n",
    "\n",
    "words = 0\n",
    "for speech in nltk.corpus.inaugural.fileids():\n",
    "    text = nltk.corpus.inaugural.words(speech)\n",
    "    base = basename(speech)\n",
    "    name = splitext(base)[0]\n",
    "    words = len(set(a.lower() for a in text))\n",
    "    print(\" The number of Unique words in \",name,\"are \",words)"
   ]
  },
  {
   "cell_type": "code",
   "execution_count": null,
   "metadata": {
    "collapsed": true
   },
   "outputs": [],
   "source": []
  },
  {
   "cell_type": "code",
   "execution_count": null,
   "metadata": {
    "collapsed": true
   },
   "outputs": [],
   "source": []
  },
  {
   "cell_type": "code",
   "execution_count": null,
   "metadata": {
    "collapsed": true
   },
   "outputs": [],
   "source": []
  }
 ],
 "metadata": {
  "anaconda-cloud": {},
  "kernelspec": {
   "display_name": "Python 3",
   "language": "python",
   "name": "python3"
  },
  "language_info": {
   "codemirror_mode": {
    "name": "ipython",
    "version": 3
   },
   "file_extension": ".py",
   "mimetype": "text/x-python",
   "name": "python",
   "nbconvert_exporter": "python",
   "pygments_lexer": "ipython3",
   "version": "3.6.0"
  }
 },
 "nbformat": 4,
 "nbformat_minor": 1
}
