{
 "cells": [
  {
   "cell_type": "markdown",
   "metadata": {},
   "source": [
    "# Question 1\n",
    "Zipf's Law : It is a a statistical relationship between rank and frequency of words in large corpora. The frequency of a word is inversely proportional to its statistical rank."
   ]
  },
  {
   "cell_type": "code",
   "execution_count": 174,
   "metadata": {
    "collapsed": true
   },
   "outputs": [],
   "source": [
    "#Use glob to read files\n",
    "import glob"
   ]
  },
  {
   "cell_type": "code",
   "execution_count": 175,
   "metadata": {
    "collapsed": true
   },
   "outputs": [],
   "source": [
    "#Read all the files to list_of_files\n",
    "list_of_files = glob.glob('/Users/sjain/nltk_data/corpora/gutenberg/*.txt')"
   ]
  },
  {
   "cell_type": "code",
   "execution_count": 176,
   "metadata": {
    "collapsed": false,
    "scrolled": false
   },
   "outputs": [
    {
     "data": {
      "text/plain": [
       "['/Users/sjain/nltk_data/corpora/gutenberg/*.txt',\n",
       " '/Users/sjain/nltk_data/corpora/gutenberg/austen-emma.txt',\n",
       " '/Users/sjain/nltk_data/corpora/gutenberg/austen-persuasion.txt',\n",
       " '/Users/sjain/nltk_data/corpora/gutenberg/austen-sense.txt',\n",
       " '/Users/sjain/nltk_data/corpora/gutenberg/bible-kjv.txt',\n",
       " '/Users/sjain/nltk_data/corpora/gutenberg/blake-poems.txt',\n",
       " '/Users/sjain/nltk_data/corpora/gutenberg/bryant-stories.txt',\n",
       " '/Users/sjain/nltk_data/corpora/gutenberg/burgess-busterbrown.txt',\n",
       " '/Users/sjain/nltk_data/corpora/gutenberg/carroll-alice.txt',\n",
       " '/Users/sjain/nltk_data/corpora/gutenberg/chesterton-ball.txt',\n",
       " '/Users/sjain/nltk_data/corpora/gutenberg/chesterton-brown.txt',\n",
       " '/Users/sjain/nltk_data/corpora/gutenberg/chesterton-thursday.txt',\n",
       " '/Users/sjain/nltk_data/corpora/gutenberg/edgeworth-parents.txt',\n",
       " '/Users/sjain/nltk_data/corpora/gutenberg/melville-moby_dick.txt',\n",
       " '/Users/sjain/nltk_data/corpora/gutenberg/milton-paradise.txt',\n",
       " '/Users/sjain/nltk_data/corpora/gutenberg/shakespeare-caesar.txt',\n",
       " '/Users/sjain/nltk_data/corpora/gutenberg/shakespeare-hamlet.txt',\n",
       " '/Users/sjain/nltk_data/corpora/gutenberg/shakespeare-macbeth.txt',\n",
       " '/Users/sjain/nltk_data/corpora/gutenberg/whitman-leaves.txt']"
      ]
     },
     "execution_count": 176,
     "metadata": {},
     "output_type": "execute_result"
    }
   ],
   "source": [
    "#Displays the list of files thats read\n",
    "list_of_files"
   ]
  },
  {
   "cell_type": "code",
   "execution_count": 185,
   "metadata": {
    "collapsed": false
   },
   "outputs": [],
   "source": [
    "#Looping all the files to merge to one txt\n",
    "with open('/Users/sjain/Python/Jain_Shreya_Spring2017/Assignment2/guten.txt', 'w' ) as result:\n",
    "    for file in list_of_files:\n",
    "        for line in open(file, 'r',encoding='utf-8', errors='ignore'):\n",
    "            result.write(line)"
   ]
  },
  {
   "cell_type": "code",
   "execution_count": 186,
   "metadata": {
    "collapsed": false
   },
   "outputs": [],
   "source": [
    "open_file = open('/Users/sjain/Python/Jain_Shreya_Spring2017/Assignment2/Gutenbergdata/guten.txt', 'r')"
   ]
  },
  {
   "cell_type": "code",
   "execution_count": 187,
   "metadata": {
    "collapsed": false
   },
   "outputs": [],
   "source": [
    "#Create an empty list\n",
    "l = []\n",
    "\n",
    "# Read the file by lines\n",
    "contents = open_file.readlines()"
   ]
  },
  {
   "cell_type": "code",
   "execution_count": 188,
   "metadata": {
    "collapsed": false
   },
   "outputs": [
    {
     "data": {
      "text/plain": [
       "['[Emma by Jane Austen 1816]\\n',\n",
       " '\\n',\n",
       " 'VOLUME I\\n',\n",
       " '\\n',\n",
       " 'CHAPTER I\\n',\n",
       " '\\n',\n",
       " '\\n',\n",
       " 'Emma Woodhouse, handsome, clever, and rich, with a comfortable home\\n',\n",
       " 'and happy disposition, seemed to unite some of the best blessings\\n',\n",
       " 'of existence; and had lived nearly twenty-one years in the world\\n',\n",
       " 'with very little to distress or vex her.\\n',\n",
       " '\\n',\n",
       " 'She was the youngest of the two daughters of a most affectionate,\\n',\n",
       " \"indulgent father; and had, in consequence of her sister's marriage,\\n\",\n",
       " 'been mistress of his house from a very early period.  Her mother\\n',\n",
       " 'had died too long ago for her to have more than an indistinct\\n',\n",
       " 'remembrance of her caresses; and her place had been supplied\\n',\n",
       " 'by an excellent woman as governess, who had fallen little short\\n',\n",
       " 'of a mother in affection.\\n',\n",
       " '\\n']"
      ]
     },
     "execution_count": 188,
     "metadata": {},
     "output_type": "execute_result"
    }
   ],
   "source": [
    "#Displays the content read by the file\n",
    "contents[:20]"
   ]
  },
  {
   "cell_type": "code",
   "execution_count": 189,
   "metadata": {
    "collapsed": true
   },
   "outputs": [],
   "source": [
    "#Helps clean the data\n",
    "import re"
   ]
  },
  {
   "cell_type": "code",
   "execution_count": 190,
   "metadata": {
    "collapsed": false
   },
   "outputs": [],
   "source": [
    "# Creating a loop to insert the words in list.\n",
    "for line in range(len(contents)):\n",
    "    l.extend(re.findall(r\"[\\w']+\", contents[line]))"
   ]
  },
  {
   "cell_type": "code",
   "execution_count": 191,
   "metadata": {
    "collapsed": false
   },
   "outputs": [
    {
     "data": {
      "text/plain": [
       "396455"
      ]
     },
     "execution_count": 191,
     "metadata": {},
     "output_type": "execute_result"
    }
   ],
   "source": [
    "#Total no. of lines\n",
    "line"
   ]
  },
  {
   "cell_type": "code",
   "execution_count": 192,
   "metadata": {
    "collapsed": true
   },
   "outputs": [],
   "source": [
    "def make_list(line):\n",
    "    words = []\n",
    "    for x in line:\n",
    "        words = words + cleanup(x)\n",
    "    return words"
   ]
  },
  {
   "cell_type": "code",
   "execution_count": 193,
   "metadata": {
    "collapsed": true
   },
   "outputs": [],
   "source": [
    "# Creating a function to write a regular expression that will substitute all the individual words in the text variable   \n",
    "def clean(element):\n",
    "    return  re.sub('[^a-zA-Z0-9 \\n\\.]', '', element)"
   ]
  },
  {
   "cell_type": "code",
   "execution_count": 194,
   "metadata": {
    "collapsed": true
   },
   "outputs": [],
   "source": [
    "# cleaning the list and storing it to a new list\n",
    "wordList = []\n",
    "for c in range(len(l)):\n",
    "    removed = clean(l[c])\n",
    "    wordList.append(removed)"
   ]
  },
  {
   "cell_type": "code",
   "execution_count": 195,
   "metadata": {
    "collapsed": true
   },
   "outputs": [],
   "source": [
    "#dictionary\n",
    "frequency={}\n",
    "\n",
    "# Looping to calculate the frequency of occurrence of each word\n",
    "for word in wordList:\n",
    "    count = frequency.get(word,0)\n",
    "    frequency[word] = count + 1"
   ]
  },
  {
   "cell_type": "code",
   "execution_count": 196,
   "metadata": {
    "collapsed": false
   },
   "outputs": [],
   "source": [
    "# Using lambda and sorting the dictionary\n",
    "sortedDict = sorted(frequency.items(), key=lambda x: (-x[1], x[0])) "
   ]
  },
  {
   "cell_type": "code",
   "execution_count": 197,
   "metadata": {
    "collapsed": false
   },
   "outputs": [
    {
     "name": "stdout",
     "output_type": "stream",
     "text": [
      "[('the', 202668), ('and', 128254), ('of', 113677), ('to', 69835), ('in', 49432), ('a', 47108), ('that', 43432), ('I', 42725), ('he', 35326), ('his', 31827), ('And', 30179), ('it', 29467), ('was', 28029), ('for', 26781), ('not', 26178), ('be', 25591), ('with', 25349), ('is', 24803), ('shall', 21504), ('him', 21307)]\n"
     ]
    }
   ],
   "source": [
    "print(sortedDict[:20])"
   ]
  },
  {
   "cell_type": "code",
   "execution_count": 198,
   "metadata": {
    "collapsed": false
   },
   "outputs": [
    {
     "name": "stdout",
     "output_type": "stream",
     "text": [
      "[('the', 202668, 1), ('and', 128254, 2), ('of', 113677, 3), ('to', 69835, 4), ('in', 49432, 5), ('a', 47108, 6), ('that', 43432, 7), ('I', 42725, 8), ('he', 35326, 9), ('his', 31827, 10), ('And', 30179, 11), ('it', 29467, 12), ('was', 28029, 13), ('for', 26781, 14), ('not', 26178, 15), ('be', 25591, 16), ('with', 25349, 17), ('is', 24803, 18), ('shall', 21504, 19), ('him', 21307, 20)]\n"
     ]
    }
   ],
   "source": [
    "# Ranking the words\n",
    "i = 1\n",
    "rankList = []\n",
    "\n",
    "for rank in range(len(sortedDict)):\n",
    "    obj1 = sortedDict[rank]\n",
    "    obj1 = obj1 + (i,)\n",
    "    rankList.append(obj1)\n",
    "    i = i+1\n",
    "\n",
    "print(rankList[:20])"
   ]
  },
  {
   "cell_type": "code",
   "execution_count": 199,
   "metadata": {
    "collapsed": true
   },
   "outputs": [],
   "source": [
    "import csv"
   ]
  },
  {
   "cell_type": "code",
   "execution_count": 200,
   "metadata": {
    "collapsed": true
   },
   "outputs": [],
   "source": [
    "# Create and write the data to a csv with word, frequency and rank\n",
    "csvFile = '/Users/sjain/Python/Jain_Shreya_Spring2017/Assignment2/gutenbergFrequency.csv'\n",
    "\n",
    "with open(csvFile, 'w', newline='') as fp:\n",
    "    a = csv.writer(fp, delimiter=',')\n",
    "    a.writerow([\"Word\", \"Frequency\", \"Rank\"])\n",
    "    a.writerows(rankList)"
   ]
  },
  {
   "cell_type": "code",
   "execution_count": 201,
   "metadata": {
    "collapsed": true
   },
   "outputs": [],
   "source": [
    "import matplotlib.pyplot as plt"
   ]
  },
  {
   "cell_type": "code",
   "execution_count": 202,
   "metadata": {
    "collapsed": false
   },
   "outputs": [
    {
     "data": {
      "image/png": "[encoded data removed]",
      "text/plain": [
       "<matplotlib.figure.Figure at 0x11d23efd0>"
      ]
     },
     "metadata": {},
     "output_type": "display_data"
    }
   ],
   "source": [
    "# Ploting the loglog figure.\n",
    "exportFig = '/Users/sjain/Python/Jain_Shreya_Spring2017/Assignment2/zipfGraph.png'\n",
    "x = []\n",
    "y = []\n",
    "\n",
    "\n",
    "# Reading CSV file in order to generate loglog figure.\n",
    "with open(csvFile,'r') as csvfile:\n",
    "    next(csvfile)\n",
    "    plots = csv.reader(csvfile, delimiter=',')\n",
    "    for row in plots:\n",
    "        x.append(int(row[2]))\n",
    "        y.append(int(row[1]))\n",
    "\n",
    "plt.loglog(x,y, label='Freq vs Rank')\n",
    "plt.xlabel('rank (r)')\n",
    "plt.ylabel('frequency (f)')\n",
    "plt.title('Zipf curve')\n",
    "plt.legend\n",
    "plt.savefig(exportFig, bbox_inches='tight')\n",
    "plt.show()"
   ]
  },
  {
   "cell_type": "markdown",
   "metadata": {},
   "source": [
    "# Conlusion\n",
    "Zipf's Law is useful to describe how words are distributed in human languages - there are a few words that are very common, a few that occur with medium frequency and a very large number of words that occur very rarely. The log-log graph plots the collection frequency of a term as a function of its rank."
   ]
  },
  {
   "cell_type": "code",
   "execution_count": null,
   "metadata": {
    "collapsed": true
   },
   "outputs": [],
   "source": []
  }
 ],
 "metadata": {
  "anaconda-cloud": {},
  "kernelspec": {
   "display_name": "Python [conda root]",
   "language": "python",
   "name": "conda-root-py"
  },
  "language_info": {
   "codemirror_mode": {
    "name": "ipython",
    "version": 3
   },
   "file_extension": ".py",
   "mimetype": "text/x-python",
   "name": "python",
   "nbconvert_exporter": "python",
   "pygments_lexer": "ipython3",
   "version": "3.5.2"
  }
 },
 "nbformat": 4,
 "nbformat_minor": 1
}
