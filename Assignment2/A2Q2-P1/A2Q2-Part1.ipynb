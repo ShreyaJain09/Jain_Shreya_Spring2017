{
 "cells": [
  {
   "cell_type": "markdown",
   "metadata": {},
   "source": [
    "# A2Q2-Part1"
   ]
  },
  {
   "cell_type": "markdown",
   "metadata": {},
   "source": [
    "Create a folder called Data to read all the JSON files.\n",
    "Create folder hirearchy for 3 Term categories - attraction, restaurants and hotels\n",
    "Read all json files and store it based on Country - State - City - Zip - Term"
   ]
  },
  {
   "cell_type": "code",
   "execution_count": 19,
   "metadata": {
    "collapsed": true
   },
   "outputs": [],
   "source": [
    "import glob \n",
    "import json\n",
    "import os \n",
    "import shutil\n",
    "import re "
   ]
  },
  {
   "cell_type": "code",
   "execution_count": 20,
   "metadata": {
    "collapsed": false
   },
   "outputs": [
    {
     "name": "stdout",
     "output_type": "stream",
     "text": [
      "{'AU', 'NZ', 'GB', 'US', 'FR', 'CA'}\n"
     ]
    }
   ],
   "source": [
    "#Get the current working directory to read all json files in folder\n",
    "dirPath = os.getcwd() \n",
    "fileList = glob.glob('/Users/sjain/Python/Jain_Shreya_Spring2017/Assignment2/Data/*json')\n",
    "countryList = []\n",
    "\n",
    "# Iterating over json files to get the distinct country\n",
    "for file in range(len(fileList)):\n",
    "    #print(fileList[file])\n",
    "    config = json.loads(open(fileList[file]).read())\n",
    "    countryList.append(config[\"location\"][\"country\"])\n",
    "uniqueCountry = set(countryList)\n",
    "\n",
    "print(uniqueCountry)"
   ]
  },
  {
   "cell_type": "code",
   "execution_count": 7,
   "metadata": {
    "collapsed": false
   },
   "outputs": [
    {
     "data": {
      "text/plain": [
       "['/Users/sjain/Python/Jain_Shreya_Spring2017/Assignment2/Data/1-abercrombie-lane-sydney.json',\n",
       " '/Users/sjain/Python/Jain_Shreya_Spring2017/Assignment2/Data/1-chicken-rice-and-seafood-houston.json',\n",
       " '/Users/sjain/Python/Jain_Shreya_Spring2017/Assignment2/Data/1-chinese-kitchen-san-jose-2.json',\n",
       " '/Users/sjain/Python/Jain_Shreya_Spring2017/Assignment2/Data/10-custom-pizzeria-braddon.json',\n",
       " '/Users/sjain/Python/Jain_Shreya_Spring2017/Assignment2/Data/10-downing-street-london.json',\n",
       " '/Users/sjain/Python/Jain_Shreya_Spring2017/Assignment2/Data/10-greek-street-london.json',\n",
       " '/Users/sjain/Python/Jain_Shreya_Spring2017/Assignment2/Data/100-club-london.json',\n",
       " '/Users/sjain/Python/Jain_Shreya_Spring2017/Assignment2/Data/100-de-agave-denver.json',\n",
       " '/Users/sjain/Python/Jain_Shreya_Spring2017/Assignment2/Data/100-hoxton-london.json',\n",
       " '/Users/sjain/Python/Jain_Shreya_Spring2017/Assignment2/Data/109-adelaide.json']"
      ]
     },
     "execution_count": 7,
     "metadata": {},
     "output_type": "execute_result"
    }
   ],
   "source": [
    "fileList[:10]"
   ]
  },
  {
   "cell_type": "code",
   "execution_count": 8,
   "metadata": {
    "collapsed": false
   },
   "outputs": [
    {
     "data": {
      "text/plain": [
       "11728"
      ]
     },
     "execution_count": 8,
     "metadata": {},
     "output_type": "execute_result"
    }
   ],
   "source": [
    "len(fileList)"
   ]
  },
  {
   "cell_type": "code",
   "execution_count": 17,
   "metadata": {
    "collapsed": false
   },
   "outputs": [],
   "source": [
    "folder = '/Data Processed'\n",
    "#Verifying folder in directory\n",
    "\n",
    "if os.path.isdir(dirPath+folder) == 0:\n",
    "     os.mkdir(dirPath+folder)\n",
    "        \n",
    "\n",
    "for countryList in uniqueCountry:\n",
    "    for file in range(len(fileList)):\n",
    "        config = json.loads(open(fileList[file]).read())\n",
    "        \n",
    "    if config['location']['country'] == countryList:\n",
    "            state = config[\"location\"][\"state\"]\n",
    "            city =  config[\"location\"][\"city\"]\n",
    "            zipCode = config[\"location\"][\"zip_code\"]\n",
    "            term =  config['term']\n",
    "            \n",
    "            \n",
    "            fileName = fileList[file][15:]\n",
    "            cleanFileName = re.sub('[^a-zA-Z \\n\\.]', ' ', fileName)\n",
    "            newFileName = cleanFileName.replace(city.lower(), '')\n",
    "            \n",
    "            \n",
    "            if os.path.isdir(dirPath+folder) == 1:\n",
    "                os.makedirs(dirPath+folder+\"/\"+country+\"/\"+state+\"/\"+city+\"/\"+zipCode+\"/\"+term, exist_ok=True)\n",
    "                dest = dirPath+folder+\"/\"+country+\"/\"+state+\"/\"+city+\"/\"+zipCode+\"/\"+term+\"/\"+newFileName\n",
    "                shutil.copy(fileList[file], dest)"
   ]
  },
  {
   "cell_type": "markdown",
   "metadata": {
    "collapsed": true
   },
   "source": [
    "Conclusion : Created the hirearchy folder with respect to all terms based on country state city and zip"
   ]
  }
 ],
 "metadata": {
  "anaconda-cloud": {},
  "kernelspec": {
   "display_name": "Python 3",
   "language": "python",
   "name": "python3"
  },
  "language_info": {
   "codemirror_mode": {
    "name": "ipython",
    "version": 3
   },
   "file_extension": ".py",
   "mimetype": "text/x-python",
   "name": "python",
   "nbconvert_exporter": "python",
   "pygments_lexer": "ipython3",
   "version": "3.6.0"
  }
 },
 "nbformat": 4,
 "nbformat_minor": 2
}
