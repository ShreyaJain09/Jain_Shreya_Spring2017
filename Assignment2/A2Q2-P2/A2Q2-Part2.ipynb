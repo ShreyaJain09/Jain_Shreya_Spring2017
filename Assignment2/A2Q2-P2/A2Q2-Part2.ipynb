{
 "cells": [
  {
   "cell_type": "markdown",
   "metadata": {},
   "source": [
    "# A2Q2-Part2\n",
    "Read the term Restaurants from the processed data folder. \n",
    "Fetch all the details for the term restaurant and store it in a csv wrt to country."
   ]
  },
  {
   "cell_type": "code",
   "execution_count": 1,
   "metadata": {
    "collapsed": false
   },
   "outputs": [],
   "source": [
    "import glob\n",
    "import json \n",
    "import os # to create directories\n",
    "import shutil # to move or copy files\n",
    "import re # for cleaning\n",
    "import csv \n"
   ]
  },
  {
   "cell_type": "code",
   "execution_count": 2,
   "metadata": {
    "collapsed": false
   },
   "outputs": [
    {
     "data": {
      "text/plain": [
       "{'AU', 'GB', 'NZ', 'US'}"
      ]
     },
     "execution_count": 2,
     "metadata": {},
     "output_type": "execute_result"
    }
   ],
   "source": [
    "dirPath = os.getcwd() \n",
    "fileList = glob.glob('/Users/sjain/Python/Jain_Shreya_Spring2017/Assignment2/Data/*json')\n",
    "restFile = []\n",
    "country = []\n",
    "\n",
    "\n",
    "for file in range(len(fileList)):\n",
    "    config = json.loads(open(fileList[file]).read())    \n",
    "    if config['term'] == 'restaurants'and 'hours' in config:\n",
    "        restFile.append(fileList[file])\n",
    "        country.append(config[\"location\"][\"country\"])\n",
    "    \n",
    "uniqueCountry = set(country)\n",
    "uniqueCountry"
   ]
  },
  {
   "cell_type": "code",
   "execution_count": 3,
   "metadata": {
    "collapsed": false
   },
   "outputs": [],
   "source": [
    "folder = '/DataPart2'\n",
    "\n",
    "# Checking if data processed folder is exist in directory or not.\n",
    "if os.path.isdir(dirPath+folder) == 0:\n",
    "     os.mkdir(dirPath+folder)\n",
    "        \n",
    "# Store start and end time in a CSV for all the Restaurants in each country.\n",
    "newName = dirPath+folder+\"/\"+'Restaurants.csv'  \n",
    "country = []\n",
    "csvF = []\n",
    "\n",
    "for country in sorted(uniqueCountry):\n",
    "    for res in range(len(restFile)):\n",
    "        config = json.loads(open(restFile[res]).read())\n",
    "        \n",
    "        # get all the data for valid country keys in both ends.\n",
    "        if config['location']['country'] == country:\n",
    "            state = config[\"location\"][\"state\"]\n",
    "            city =  config[\"location\"][\"city\"]\n",
    "            fileName = restFile[res][15:-5]\n",
    "            cleanFileName = re.sub('[^a-zA-Z \\n\\.]', ' ', fileName)\n",
    "            openKey = config['hours'][0]['open']\n",
    "            \n",
    "            #Get all days\n",
    "            for x in range(len(openKey)):\n",
    "                day = openKey[x]['day']\n",
    "                startTime = openKey[x]['start']\n",
    "                endTime = openKey[x]['end']\n",
    "                dataSet = (cleanFileName.strip(), city, country, day, startTime, endTime)\n",
    "                csvF.append(dataSet)\n",
    "                \n",
    "# Saving the data set.                \n",
    "with open(newName, 'w', newline='') as fp:\n",
    "    a = csv.writer(fp, delimiter=',')\n",
    "    a.writerow([\"Name\", \"City\", \"Country Code\", \"Days\", \"Start\", \"End\"])\n",
    "    a.writerows(csvF)\n",
    "    fp.close()"
   ]
  },
  {
   "cell_type": "markdown",
   "metadata": {},
   "source": [
    "Splitting Start and End Time into hour and minute with little changes in the previous code"
   ]
  },
  {
   "cell_type": "code",
   "execution_count": 4,
   "metadata": {
    "collapsed": false
   },
   "outputs": [],
   "source": [
    "#Splitting Start and End Time into hour and minute\n",
    "country = []\n",
    "bonusFile = dirPath+folder+\"/\"+'Bonus.csv' \n",
    "csvF = []\n",
    "for country in sorted(uniqueCountry):\n",
    "    for res in range(len(restFile)):\n",
    "        config = json.loads(open(restFile[res]).read())\n",
    "        if config['location']['country'] == country:\n",
    "            state = config[\"location\"][\"state\"]\n",
    "            city =  config[\"location\"][\"city\"]\n",
    "            fileName = restFile[res][15:-5]\n",
    "            cleanFileName = re.sub('[^a-zA-Z \\n\\.]', ' ', fileName)\n",
    "            openKey = config['hours'][0]['open']\n",
    "            for x in range(len(openKey)):\n",
    "                day = openKey[x]['day']\n",
    "                startTime = openKey[x]['start']\n",
    "                sHour = startTime[0:-2]\n",
    "                sMin = startTime[-2:]\n",
    "                endTime = openKey[x]['end']\n",
    "                eHour = endTime[0:-2]\n",
    "                eMin = endTime[-2:]\n",
    "                dataSet = (cleanFileName.strip(), city, country, day, sHour, sMin, eHour, eMin)\n",
    "                csvF.append(dataSet)\n",
    "with open(bonusFile, 'w', newline='') as fp:\n",
    "    a = csv.writer(fp, delimiter=',')\n",
    "    a.writerow([\"Name\", \"City\", \"Country Code\", \"Days\", \"Start Time Hour\", \"Start Time Minute\", \"End Time Hour\", \"End Time Minute\"])\n",
    "    a.writerows(csvF)\n",
    "    fp.close()\n",
    "    \n",
    "    \n",
    "#For individual CSV file for term Restaurants \n",
    "\n",
    "country = []\n",
    "\n",
    "path = dirPath+folder\n",
    "if os.path.isdir(path) == 0:\n",
    "     os.mkdir(path)\n",
    "for country in uniqueCountry:\n",
    "    for res in range(len(restFile)):\n",
    "        csvF = []\n",
    "        config = json.loads(open(restFile[res]).read())\n",
    "        if config['location']['country'] == country:\n",
    "            state = config[\"location\"][\"state\"]\n",
    "            city =  config[\"location\"][\"city\"]\n",
    "            fileName = restFile[res][15:-5]\n",
    "            cleanFileName = re.sub('[^a-zA-Z \\n\\.]', ' ', fileName)\n",
    "            openKey = config['hours'][0]['open']\n",
    "            for x in range(len(openKey)):\n",
    "                day = openKey[x]['day']\n",
    "                startTime = openKey[x]['start']\n",
    "                endTime = openKey[x]['end']\n",
    "                dataSet = (cleanFileName.strip(), city, country, day, startTime, endTime)\n",
    "                csvF.append(dataSet)\n",
    "                if os.path.isdir(path) == 1:\n",
    "                    os.makedirs(path+\"/\"+country, exist_ok=True)\n",
    "                    newName = path+\"/\"+country+\"/\"+cleanFileName.strip()+\".csv\"\n",
    "                    with open(newName, 'w', newline='') as fp:\n",
    "                        a = csv.writer(fp, delimiter=',')\n",
    "                        a.writerow([\"Name\", \"City\", \"Country Code\", \"Days\", \"Start\", \"End\"])\n",
    "                        a.writerows(csvF)"
   ]
  },
  {
   "cell_type": "markdown",
   "metadata": {
    "collapsed": true
   },
   "source": [
    "Conclusion : All csv's created as per the question"
   ]
  }
 ],
 "metadata": {
  "anaconda-cloud": {},
  "kernelspec": {
   "display_name": "Python [default]",
   "language": "python",
   "name": "python3"
  },
  "language_info": {
   "codemirror_mode": {
    "name": "ipython",
    "version": 3
   },
   "file_extension": ".py",
   "mimetype": "text/x-python",
   "name": "python",
   "nbconvert_exporter": "python",
   "pygments_lexer": "ipython3",
   "version": "3.5.2"
  }
 },
 "nbformat": 4,
 "nbformat_minor": 1
}
