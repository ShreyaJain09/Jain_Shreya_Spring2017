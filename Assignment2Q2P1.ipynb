{
 "cells": [
  {
   "cell_type": "markdown",
   "metadata": {},
   "source": [
    "# Question2 Part1"
   ]
  },
  {
   "cell_type": "code",
   "execution_count": 146,
   "metadata": {
    "collapsed": false
   },
   "outputs": [],
   "source": [
    "# Importing all libraries that play a role in this question\n",
    "import glob # to read files in directory\n",
    "import json # to read JSON files\n",
    "import os # to create directories\n",
    "import shutil # to move or copy files\n",
    "import re # for cleaning\n",
    "import csv # to import csv file.\n",
    "#from json import loads\n"
   ]
  },
  {
   "cell_type": "code",
   "execution_count": 141,
   "metadata": {
    "collapsed": false
   },
   "outputs": [],
   "source": [
    "relativePath = os.getcwd() #get relative path"
   ]
  },
  {
   "cell_type": "code",
   "execution_count": 142,
   "metadata": {
    "collapsed": false
   },
   "outputs": [
    {
     "data": {
      "text/plain": [
       "'/Users/sjain/Python/Jain_Shreya_Spring2017'"
      ]
     },
     "execution_count": 142,
     "metadata": {},
     "output_type": "execute_result"
    }
   ],
   "source": [
    "os.getcwd()"
   ]
  },
  {
   "cell_type": "code",
   "execution_count": 143,
   "metadata": {
    "collapsed": false
   },
   "outputs": [
    {
     "data": {
      "text/plain": [
       "'/Users/sjain/Python/Jain_Shreya_Spring2017'"
      ]
     },
     "execution_count": 143,
     "metadata": {},
     "output_type": "execute_result"
    }
   ],
   "source": [
    "relativePath"
   ]
  },
  {
   "cell_type": "code",
   "execution_count": 149,
   "metadata": {
    "collapsed": false
   },
   "outputs": [
    {
     "ename": "AttributeError",
     "evalue": "'dict' object has no attribute 'decode'",
     "output_type": "error",
     "traceback": [
      "\u001b[0;31m---------------------------------------------------------------------------\u001b[0m",
      "\u001b[0;31mAttributeError\u001b[0m                            Traceback (most recent call last)",
      "\u001b[0;32m<ipython-input-149-c28d35871b64>\u001b[0m in \u001b[0;36m<module>\u001b[0;34m()\u001b[0m\n\u001b[1;32m      5\u001b[0m \u001b[0;31m# looping through all the json files in order to find unique countries.\u001b[0m\u001b[0;34m\u001b[0m\u001b[0;34m\u001b[0m\u001b[0m\n\u001b[1;32m      6\u001b[0m \u001b[0;32mfor\u001b[0m \u001b[0mfile\u001b[0m \u001b[0;32min\u001b[0m \u001b[0mrange\u001b[0m\u001b[0;34m(\u001b[0m\u001b[0mlen\u001b[0m\u001b[0;34m(\u001b[0m\u001b[0mfileList\u001b[0m\u001b[0;34m)\u001b[0m\u001b[0;34m)\u001b[0m\u001b[0;34m:\u001b[0m\u001b[0;34m\u001b[0m\u001b[0m\n\u001b[0;32m----> 7\u001b[0;31m     \u001b[0mshreya\u001b[0m \u001b[0;34m=\u001b[0m \u001b[0mjson\u001b[0m\u001b[0;34m.\u001b[0m\u001b[0mloads\u001b[0m\u001b[0;34m(\u001b[0m\u001b[0mopen\u001b[0m\u001b[0;34m(\u001b[0m\u001b[0mfileList\u001b[0m\u001b[0;34m[\u001b[0m\u001b[0mfile\u001b[0m\u001b[0;34m]\u001b[0m\u001b[0;34m)\u001b[0m\u001b[0;34m.\u001b[0m\u001b[0mread\u001b[0m\u001b[0;34m(\u001b[0m\u001b[0;34m)\u001b[0m\u001b[0;34m)\u001b[0m\u001b[0;34m.\u001b[0m\u001b[0mdecode\u001b[0m\u001b[0;34m(\u001b[0m\u001b[0;34m'utf-8'\u001b[0m\u001b[0;34m)\u001b[0m\u001b[0;34m\u001b[0m\u001b[0m\n\u001b[0m\u001b[1;32m      8\u001b[0m     \u001b[0mcountry\u001b[0m\u001b[0;34m.\u001b[0m\u001b[0mappend\u001b[0m\u001b[0;34m(\u001b[0m\u001b[0mshreya\u001b[0m\u001b[0;34m[\u001b[0m\u001b[0;34m\"location\"\u001b[0m\u001b[0;34m]\u001b[0m\u001b[0;34m[\u001b[0m\u001b[0;34m\"country\"\u001b[0m\u001b[0;34m]\u001b[0m\u001b[0;34m)\u001b[0m\u001b[0;34m\u001b[0m\u001b[0m\n\u001b[1;32m      9\u001b[0m \u001b[0muniqueCountry\u001b[0m \u001b[0;34m=\u001b[0m \u001b[0mset\u001b[0m\u001b[0;34m(\u001b[0m\u001b[0mcountry\u001b[0m\u001b[0;34m)\u001b[0m\u001b[0;34m\u001b[0m\u001b[0m\n",
      "\u001b[0;31mAttributeError\u001b[0m: 'dict' object has no attribute 'decode'"
     ]
    }
   ],
   "source": [
    "# using glob function to read all json files in Data Folder.\n",
    "fileList = glob.glob('/Users/sjain/Python/Jain_Shreya_Spring2017/Assignment2/Data/*json')\n",
    "country = []\n",
    "\n",
    "# looping through all the json files in order to find unique countries.\n",
    "for file in range(len(fileList)):\n",
    "    shreya = json.loads(open(fileList[file]).read()).decode('utf-8')\n",
    "    country.append(shreya[\"location\"][\"country\"])\n",
    "uniqueCountry = set(country)\n",
    "\n",
    "print(uniqueCountry)\n",
    "\n",
    "\n",
    "\n",
    "try:\n",
    "    qByUser = byUsrUrlObj.read()\n",
    "    qUserData = json.loads(qByUser).decode('utf-8')\n",
    "    questionSubjs = qUserData[\"all\"][\"questions\"]\n",
    "except ValueError:  # includes simplejson.decoder.JSONDecodeError\n",
    "    print 'Decoding JSON has failed'\n",
    "    \n",
    "\n",
    "try: \n",
    "    json_data = open(fileList[file]).read()\n",
    "    for file in range(len(fileList)):\n",
    "        config = json.loads(json_data).decode('utf-8')\n",
    "        country.append(shreya[\"location\"][\"country\"])\n",
    "    uniqueCountry = set(country)\n",
    "except ValueError:  # includes simplejson.decoder.JSONDecodeError\n",
    "    print 'Decoding JSON has failed'\n"
   ]
  },
  {
   "cell_type": "code",
   "execution_count": 153,
   "metadata": {
    "collapsed": false
   },
   "outputs": [
    {
     "ename": "SyntaxError",
     "evalue": "Missing parentheses in call to 'print' (<ipython-input-153-5367e989ca6f>, line 8)",
     "output_type": "error",
     "traceback": [
      "\u001b[0;36m  File \u001b[0;32m\"<ipython-input-153-5367e989ca6f>\"\u001b[0;36m, line \u001b[0;32m8\u001b[0m\n\u001b[0;31m    print 'Decoding JSON has failed'\u001b[0m\n\u001b[0m                                   ^\u001b[0m\n\u001b[0;31mSyntaxError\u001b[0m\u001b[0;31m:\u001b[0m Missing parentheses in call to 'print'\n"
     ]
    }
   ],
   "source": []
  },
  {
   "cell_type": "code",
   "execution_count": 106,
   "metadata": {
    "collapsed": false
   },
   "outputs": [
    {
     "data": {
      "text/plain": [
       "['/Users/sjain/Python/Jain_Shreya_Spring2017/Assignment2/Data/1-abercrombie-lane-sydney.json',\n",
       " '/Users/sjain/Python/Jain_Shreya_Spring2017/Assignment2/Data/1-chicken-rice-and-seafood-houston.json',\n",
       " '/Users/sjain/Python/Jain_Shreya_Spring2017/Assignment2/Data/1-chinese-kitchen-san-jose-2.json',\n",
       " '/Users/sjain/Python/Jain_Shreya_Spring2017/Assignment2/Data/10-custom-pizzeria-braddon.json',\n",
       " '/Users/sjain/Python/Jain_Shreya_Spring2017/Assignment2/Data/10-downing-street-london.json',\n",
       " '/Users/sjain/Python/Jain_Shreya_Spring2017/Assignment2/Data/10-greek-street-london.json',\n",
       " '/Users/sjain/Python/Jain_Shreya_Spring2017/Assignment2/Data/100-club-london.json',\n",
       " '/Users/sjain/Python/Jain_Shreya_Spring2017/Assignment2/Data/100-de-agave-denver.json',\n",
       " '/Users/sjain/Python/Jain_Shreya_Spring2017/Assignment2/Data/100-hoxton-london.json',\n",
       " '/Users/sjain/Python/Jain_Shreya_Spring2017/Assignment2/Data/109-adelaide.json']"
      ]
     },
     "execution_count": 106,
     "metadata": {},
     "output_type": "execute_result"
    }
   ],
   "source": [
    "fileList[:10]"
   ]
  },
  {
   "cell_type": "code",
   "execution_count": 83,
   "metadata": {
    "collapsed": true
   },
   "outputs": [],
   "source": [
    "json_data = open(fileList[file]).read()"
   ]
  },
  {
   "cell_type": "code",
   "execution_count": 84,
   "metadata": {
    "collapsed": false
   },
   "outputs": [
    {
     "data": {
      "text/plain": [
       "'{\"location\": {\"city\": \"Paris\", \"address2\": \"\", \"zip_code\": \"75020\", \"address3\": \"\", \"address1\": \"15 Rue Malte Brun\", \"country\": \"FR\", \"state\": \"75\"}, \"categories\": [{\"title\": \"Performing Arts\", \"alias\": \"theater\"}], \"is_closed\": false, \"term\": \"attractions\", \"url\": \"https://www.yelp.com/biz/th%C3%A9%C3%A2tre-national-de-la-colline-paris-5?adjust_creative=92p07_JjKyriZTQxAXRiKQ&utm_campaign=yelp_api_v3&utm_medium=api_v3_business_lookup&utm_source=92p07_JjKyriZTQxAXRiKQ\", \"id\": \"th\\\\u00e9\\\\u00e2tre-national-de-la-colline-paris-5\", \"phone\": \"+33144625200\", \"photos\": [\"https://s3-media2.fl.yelpcdn.com/bphoto/CTUyot87RK_JnAj3LYulQQ/o.jpg\", \"https://s3-media2.fl.yelpcdn.com/bphoto/FM-amAz7SPY3VXIdm55rUw/o.jpg\"], \"is_claimed\": false, \"rating\": 3.5, \"review_count\": 7, \"image_url\": \"https://s3-media2.fl.yelpcdn.com/bphoto/CTUyot87RK_JnAj3LYulQQ/o.jpg\", \"coordinates\": {\"latitude\": 48.86455, \"longitude\": 2.39765}, \"name\": \"Th\\\\u00e9\\\\u00e2tre National de la Colline\"}'"
      ]
     },
     "execution_count": 84,
     "metadata": {},
     "output_type": "execute_result"
    }
   ],
   "source": [
    "json_data"
   ]
  },
  {
   "cell_type": "code",
   "execution_count": 85,
   "metadata": {
    "collapsed": false
   },
   "outputs": [
    {
     "name": "stdout",
     "output_type": "stream",
     "text": [
      "{'FR'}\n"
     ]
    }
   ],
   "source": [
    "# looping through all the json files in order to find unique countries.\n",
    "for file in range(len(fileList)):\n",
    "    config = json.loads(json_data)\n",
    "country.append(config[\"location\"][\"country\"])\n",
    "uniqueCountry = set(country)\n",
    "\n",
    "print(uniqueCountry)"
   ]
  },
  {
   "cell_type": "code",
   "execution_count": null,
   "metadata": {
    "collapsed": false
   },
   "outputs": [],
   "source": [
    "country.append(config[\"location\"][\"country\"])\n",
    "uniqueCountry = set(country)\n",
    "\n",
    "print(uniqueCountry)"
   ]
  },
  {
   "cell_type": "code",
   "execution_count": 92,
   "metadata": {
    "collapsed": false
   },
   "outputs": [],
   "source": [
    "# creating a directory name data processed in D drive.\n",
    "folder = '/Data Processed'\n",
    "\n",
    "# Checking if data processed folder is exist in directory or not.\n",
    "if os.path.isdir(relativePath+folder) == 0:\n",
    "     os.mkdir(relativePath+folder)\n",
    "        \n",
    "\n",
    "# Looping through country\n",
    "# using inner loop to loop through json files.\n",
    "for country in uniqueCountry:\n",
    "    for file in range(len(fileList)):\n",
    "        config = json.loads(json_data)\n",
    "        \n",
    "        # checking if country is equal to country in json keys.\n",
    "        # If country match then get all data.\n",
    "        if config['location']['country'] == country:\n",
    "            state = config[\"location\"][\"state\"]\n",
    "            city =  config[\"location\"][\"city\"]\n",
    "            zipCode = config[\"location\"][\"zip_code\"]\n",
    "            term =  config['term']\n",
    "            \n",
    "            # Modifying file name in order to remove numeric and special characters.\n",
    "            fileName = fileList[file][15:]\n",
    "            cleanFileName = re.sub('[^a-zA-Z \\n\\.]', ' ', fileName)\n",
    "            newFileName = cleanFileName.replace(city.lower(), '')\n",
    "            \n",
    "            # Checking if directory exists then create sub heirarchy on basis of \n",
    "            # Data Processed / Country / State / City / Zip Code / Attraction / JSON Files\n",
    "            if os.path.isdir(relativePath+folder) == 1:\n",
    "                os.makedirs(relativePath+folder+\"/\"+country+\"/\"+state+\"/\"+city+\"/\"+zipCode+\"/\"+term, exist_ok=True)\n",
    "                dest = relativePath+folder+\"/\"+country+\"/\"+state+\"/\"+city+\"/\"+zipCode+\"/\"+term+\"/\"+newFileName\n",
    "                shutil.copy(fileList[file], dest)"
   ]
  },
  {
   "cell_type": "code",
   "execution_count": null,
   "metadata": {
    "collapsed": false
   },
   "outputs": [],
   "source": [
    "country"
   ]
  },
  {
   "cell_type": "code",
   "execution_count": null,
   "metadata": {
    "collapsed": false
   },
   "outputs": [],
   "source": [
    "uniqueCountry"
   ]
  },
  {
   "cell_type": "code",
   "execution_count": 132,
   "metadata": {
    "collapsed": false
   },
   "outputs": [
    {
     "data": {
      "text/plain": [
       "11728"
      ]
     },
     "execution_count": 132,
     "metadata": {},
     "output_type": "execute_result"
    }
   ],
   "source": [
    "len(fileList)"
   ]
  },
  {
   "cell_type": "code",
   "execution_count": 134,
   "metadata": {
    "collapsed": false
   },
   "outputs": [
    {
     "data": {
      "text/plain": [
       "{'categories': [{'alias': 'burgers', 'title': 'Burgers'},\n",
       "  {'alias': 'seafood', 'title': 'Seafood'},\n",
       "  {'alias': 'chickenshop', 'title': 'Chicken Shop'}],\n",
       " 'coordinates': {'latitude': 29.72796, 'longitude': -95.37673},\n",
       " 'hours': [{'hours_type': 'REGULAR',\n",
       "   'is_open_now': False,\n",
       "   'open': [{'day': 0, 'end': '2030', 'is_overnight': False, 'start': '1030'},\n",
       "    {'day': 1, 'end': '2030', 'is_overnight': False, 'start': '1030'},\n",
       "    {'day': 2, 'end': '2030', 'is_overnight': False, 'start': '1030'},\n",
       "    {'day': 3, 'end': '2030', 'is_overnight': False, 'start': '1030'},\n",
       "    {'day': 4, 'end': '2030', 'is_overnight': False, 'start': '1030'},\n",
       "    {'day': 5, 'end': '2000', 'is_overnight': False, 'start': '1030'}]}],\n",
       " 'id': '1-chicken-rice-and-seafood-houston',\n",
       " 'image_url': 'https://s3-media3.fl.yelpcdn.com/bphoto/_Eia4Ygk5pO3N0B_DmMwWw/o.jpg',\n",
       " 'is_claimed': True,\n",
       " 'is_closed': False,\n",
       " 'location': {'address1': '4621 Almeda Rd',\n",
       "  'address2': '',\n",
       "  'address3': '',\n",
       "  'city': 'Houston',\n",
       "  'country': 'US',\n",
       "  'state': 'TX',\n",
       "  'zip_code': '77004'},\n",
       " 'name': '#1 Chicken Rice & Seafood',\n",
       " 'phone': '',\n",
       " 'photos': ['https://s3-media1.fl.yelpcdn.com/bphoto/_Eia4Ygk5pO3N0B_DmMwWw/o.jpg',\n",
       "  'https://s3-media3.fl.yelpcdn.com/bphoto/N6TVgiyNO-W_ijaLEbFqXg/o.jpg',\n",
       "  'https://s3-media1.fl.yelpcdn.com/bphoto/VIrPJv3unwE002zoPR5e8Q/o.jpg'],\n",
       " 'price': '$',\n",
       " 'rating': 4.0,\n",
       " 'review_count': 102,\n",
       " 'term': 'restaurants',\n",
       " 'url': 'https://www.yelp.com/biz/1-chicken-rice-and-seafood-houston?adjust_creative=92p07_JjKyriZTQxAXRiKQ&utm_campaign=yelp_api_v3&utm_medium=api_v3_business_lookup&utm_source=92p07_JjKyriZTQxAXRiKQ'}"
      ]
     },
     "execution_count": 134,
     "metadata": {},
     "output_type": "execute_result"
    }
   ],
   "source": [
    "config"
   ]
  },
  {
   "cell_type": "code",
   "execution_count": null,
   "metadata": {
    "collapsed": true
   },
   "outputs": [],
   "source": []
  }
 ],
 "metadata": {
  "kernelspec": {
   "display_name": "Python [conda root]",
   "language": "python",
   "name": "conda-root-py"
  },
  "language_info": {
   "codemirror_mode": {
    "name": "ipython",
    "version": 3
   },
   "file_extension": ".py",
   "mimetype": "text/x-python",
   "name": "python",
   "nbconvert_exporter": "python",
   "pygments_lexer": "ipython3",
   "version": "3.5.2"
  }
 },
 "nbformat": 4,
 "nbformat_minor": 1
}
