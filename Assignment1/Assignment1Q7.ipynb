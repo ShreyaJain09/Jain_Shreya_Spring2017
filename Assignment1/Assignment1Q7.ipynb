{
 "cells": [
  {
   "cell_type": "markdown",
   "metadata": {},
   "source": [
    "# Question 7 \n",
    "-Use Name corpus, calculate the probability of a name being of a male or female base on the last character(s) of name. Sample steps: -For char ‘a’: total_names = sum(names ending with ‘a’) male_names = sum(male names ending with ‘a’) female_names = sum(female names ending with ‘a’) Probability of name being male = 100 * male_names / total_names Do this for all characters. Output must come with proper title (e.g. [a] male: 25%, female: 60%)"
   ]
  },
  {
   "cell_type": "code",
   "execution_count": 2,
   "metadata": {
    "collapsed": false
   },
   "outputs": [],
   "source": [
    "import nltk\n",
    "from nltk.corpus import names"
   ]
  },
  {
   "cell_type": "code",
   "execution_count": 3,
   "metadata": {
    "collapsed": false
   },
   "outputs": [
    {
     "data": {
      "text/plain": [
       "['female.txt', 'male.txt']"
      ]
     },
     "execution_count": 3,
     "metadata": {},
     "output_type": "execute_result"
    }
   ],
   "source": [
    "names.fileids()\n",
    "\n"
   ]
  },
  {
   "cell_type": "code",
   "execution_count": 6,
   "metadata": {
    "collapsed": true
   },
   "outputs": [],
   "source": [
    "namesOfFemale = nltk.corpus.names.words('female.txt')# get all the names in female.txt file\n",
    "namesOfMale = nltk.corpus.names.words('male.txt')    # get all the words in male.txt file\n",
    "type(namesOfFemale)\n",
    "all_names = []                                      # create a list to add all names in one list\n",
    "all_names.extend(namesOfFemale)       \n",
    "all_names.extend(namesOfMale)\n",
    "\n",
    "char = ['a', 'b','c','d','e','f','g','h','i','j','k','l','m','n','o','p','q','r','s','t','u','v','w','x','y','z']"
   ]
  },
  {
   "cell_type": "code",
   "execution_count": 8,
   "metadata": {
    "collapsed": false
   },
   "outputs": [
    {
     "name": "stdout",
     "output_type": "stream",
     "text": [
      "Based on [ a ]\n",
      "Probaility of name of male: 1.609322974472808 %\n",
      "Probability of name of female: 98.3906770255272 %\n",
      "\n",
      "Based on [ b ]\n",
      "Probaility of name of male: 70.0 %\n",
      "Probability of name of female: 30.0 %\n",
      "\n",
      "Based on [ c ]\n",
      "Probaility of name of male: 100.0 %\n",
      "Probability of name of female: 0.0 %\n",
      "\n",
      "Based on [ d ]\n",
      "Probaility of name of male: 85.39325842696628 %\n",
      "Probability of name of female: 14.606741573033707 %\n",
      "\n",
      "Based on [ e ]\n",
      "Probaility of name of male: 24.63157894736842 %\n",
      "Probability of name of female: 75.36842105263158 %\n",
      "\n",
      "Based on [ f ]\n",
      "Probaility of name of male: 92.5925925925926 %\n",
      "Probability of name of female: 7.4074074074074066 %\n",
      "\n",
      "Based on [ g ]\n",
      "Probaility of name of male: 76.19047619047619 %\n",
      "Probability of name of female: 23.809523809523807 %\n",
      "\n",
      "Based on [ h ]\n",
      "Probaility of name of male: 46.96969696969697 %\n",
      "Probability of name of female: 53.03030303030303 %\n",
      "\n",
      "Based on [ i ]\n",
      "Probaility of name of male: 13.623978201634879 %\n",
      "Probability of name of female: 86.37602179836512 %\n",
      "\n",
      "Based on [ j ]\n",
      "Probaility of name of male: 75.0 %\n",
      "Probability of name of female: 25.0 %\n",
      "\n",
      "Based on [ k ]\n",
      "Probaility of name of male: 95.83333333333334 %\n",
      "Probability of name of female: 4.166666666666666 %\n",
      "\n",
      "Based on [ l ]\n",
      "Probaility of name of male: 51.09289617486339 %\n",
      "Probability of name of female: 48.90710382513661 %\n",
      "\n",
      "Based on [ m ]\n",
      "Probaility of name of male: 84.33734939759037 %\n",
      "Probability of name of female: 15.66265060240964 %\n",
      "\n",
      "Based on [ n ]\n",
      "Probaility of name of male: 55.32407407407407 %\n",
      "Probability of name of female: 44.675925925925924 %\n",
      "\n",
      "Based on [ o ]\n",
      "Probaility of name of male: 83.33333333333334 %\n",
      "Probability of name of female: 16.666666666666664 %\n",
      "\n",
      "Based on [ p ]\n",
      "Probaility of name of male: 90.0 %\n",
      "Probability of name of female: 10.0 %\n",
      "\n",
      "Based on [ q ]\n",
      "Probaility of name of male: 0 %\n",
      "Probability of name of female: 0 %\n",
      "\n",
      "Based on [ r ]\n",
      "Probaility of name of male: 80.16877637130801 %\n",
      "Probability of name of female: 19.831223628691983 %\n",
      "\n",
      "Based on [ s ]\n",
      "Probaility of name of male: 71.20743034055728 %\n",
      "Probability of name of female: 28.792569659442723 %\n",
      "\n",
      "Based on [ t ]\n",
      "Probaility of name of male: 70.6896551724138 %\n",
      "Probability of name of female: 29.310344827586203 %\n",
      "\n",
      "Based on [ u ]\n",
      "Probaility of name of male: 66.66666666666666 %\n",
      "Probability of name of female: 33.33333333333333 %\n",
      "\n",
      "Based on [ v ]\n",
      "Probaility of name of male: 88.88888888888889 %\n",
      "Probability of name of female: 11.11111111111111 %\n",
      "\n",
      "Based on [ w ]\n",
      "Probaility of name of male: 77.27272727272727 %\n",
      "Probability of name of female: 22.727272727272727 %\n",
      "\n",
      "Based on [ x ]\n",
      "Probaility of name of male: 50.0 %\n",
      "Probability of name of female: 50.0 %\n",
      "\n",
      "Based on [ y ]\n",
      "Probaility of name of male: 41.86633039092055 %\n",
      "Probability of name of female: 58.13366960907944 %\n",
      "\n",
      "Based on [ z ]\n",
      "Probaility of name of male: 73.33333333333333 %\n",
      "Probability of name of female: 26.666666666666668 %\n",
      "\n"
     ]
    }
   ],
   "source": [
    "for each in char:\n",
    "    Total_Names  = 0\n",
    "    males = 0\n",
    "    females = 0\n",
    "    probOfMale_names = 0\n",
    "    probOfFemale_names = 0\n",
    "    for name in all_names:\n",
    "        if name.endswith(each):\n",
    "            Total_Names += 1\n",
    "    for name in namesOfMale:\n",
    "        if name.endswith(each):\n",
    "            males += 1\n",
    "    for name in namesOfFemale:\n",
    "        if name.endswith(each):\n",
    "            females += 1\n",
    "    if Total_Names > 0:\n",
    "        probOfMale_names = 100 * (males/Total_Names)\n",
    "        probOfFemale_names = 100 * (females/Total_Names)\n",
    "    print ('Based on [',each,']')\n",
    "    print('Probaility of name of male:', probOfMale_names , '%')\n",
    "    print('Probability of name of female:', probOfFemale_names , '%')   \n",
    "    print('')"
   ]
  },
  {
   "cell_type": "code",
   "execution_count": null,
   "metadata": {
    "collapsed": true
   },
   "outputs": [],
   "source": []
  }
 ],
 "metadata": {
  "anaconda-cloud": {},
  "kernelspec": {
   "display_name": "Python [conda root]",
   "language": "python",
   "name": "conda-root-py"
  },
  "language_info": {
   "codemirror_mode": {
    "name": "ipython",
    "version": 3
   },
   "file_extension": ".py",
   "mimetype": "text/x-python",
   "name": "python",
   "nbconvert_exporter": "python",
   "pygments_lexer": "ipython3",
   "version": "3.5.2"
  }
 },
 "nbformat": 4,
 "nbformat_minor": 1
}
