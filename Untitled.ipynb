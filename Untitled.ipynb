{
 "cells": [
  {
   "cell_type": "markdown",
   "metadata": {},
   "source": []
  },
  {
   "cell_type": "code",
   "execution_count": 9,
   "metadata": {
    "collapsed": true
   },
   "outputs": [],
   "source": [
    "# Importing all libraries that play a role in this question\n",
    "import glob # to read files in directory\n",
    "import json # to read JSON files\n",
    "import os # to create directories\n",
    "import shutil # to move or copy files\n",
    "import re # for cleaning\n",
    "import csv # to import csv file."
   ]
  },
  {
   "cell_type": "code",
   "execution_count": 19,
   "metadata": {
    "collapsed": false
   },
   "outputs": [
    {
     "data": {
      "text/plain": [
       "{'AU'}"
      ]
     },
     "execution_count": 19,
     "metadata": {},
     "output_type": "execute_result"
    }
   ],
   "source": [
    "relativePath = os.getcwd() #get relative path\n",
    "# using glob function to read all json files in Data Folder.\n",
    "fileList = glob.glob('/Users/sjain/Python/Jain_Shreya_Spring2017/Assignment2/Data/*json')\n",
    "restFile = []\n",
    "country = []\n",
    "json_data = open(fileList[file]).read()\n",
    "# looping through all the json files in order to find unique countries.\n",
    "for file in range(len(fileList)):\n",
    "    # json loads is use to read json data.\n",
    "    config = json.loads(json_data)\n",
    "    \n",
    "    # checking if country is equal to country in json keys && json file contains key name \"Hours\".\n",
    "    # This is because I saw a file name \"140 perth perth comes in to term restaurants but don’t have any hours\"\n",
    "    # If condition match then get all data and store in restFile.\n",
    "    \n",
    "    if config['term'] == 'restaurants'and 'hours' in config:\n",
    "        restFile.append(fileList[file])\n",
    "        country.append(config[\"location\"][\"country\"])\n",
    "    \n",
    "uniqueCountry = set(country)\n",
    "uniqueCountry"
   ]
  },
  {
   "cell_type": "code",
   "execution_count": 21,
   "metadata": {
    "collapsed": false
   },
   "outputs": [
    {
     "ename": "SyntaxError",
     "evalue": "invalid syntax (<ipython-input-21-e5a89ae64779>, line 20)",
     "output_type": "error",
     "traceback": [
      "\u001b[0;36m  File \u001b[0;32m\"<ipython-input-21-e5a89ae64779>\"\u001b[0;36m, line \u001b[0;32m20\u001b[0m\n\u001b[0;31m    if config['location']['country'] == country:\u001b[0m\n\u001b[0m                                               ^\u001b[0m\n\u001b[0;31mSyntaxError\u001b[0m\u001b[0;31m:\u001b[0m invalid syntax\n"
     ]
    }
   ],
   "source": [
    "folder = '/Data_Part_2'\n",
    "\n",
    "# Checking if data processed folder is exist in directory or not.\n",
    "if os.path.isdir(relativePath+folder) == 0:\n",
    "     os.mkdir(relativePath+folder)\n",
    "        \n",
    "# Creating one Restaurants CSV file to store all start and end time of all restaurants in each country.\n",
    "newFileName = relativePath+folder+\"/\"+'Restaurants.csv'  \n",
    "country = []\n",
    "csvF = []\n",
    "\n",
    "# Looping through country\n",
    "# using inner loop to loop through json files.\n",
    "for country in sorted(uniqueCountry):\n",
    "    for res in range(len(restFile)):\n",
    "        config = json.loads(open(json_data)\n",
    "        \n",
    "        # checking if country is equal to country in json keys.\n",
    "        # If country match then get all data.\n",
    "        if config['location']['country'] == country:\n",
    "                            state = config[\"location\"][\"state\"]\n",
    "                            city =  config[\"location\"][\"city\"]\n",
    "            \n",
    "            # Modifying file name in order to remove numeric and special characters.\n",
    "            fileName = restFile[res][15:-5]\n",
    "            cleanFileName = re.sub('[^a-zA-Z \\n\\.]', ' ', fileName)\n",
    "            openKey = config['hours'][0]['open']\n",
    "            \n",
    "            # Now creating this inner loop of key open in order to get all days.\n",
    "            for x in range(len(openKey)):\n",
    "                day = openKey[x]['day']\n",
    "                startTime = openKey[x]['start']\n",
    "                endTime = openKey[x]['end']\n",
    "                \n",
    "                # Getting All data and storing in Data Set\n",
    "                dataSet = (cleanFileName.strip(), city, country, day, startTime, endTime)\n",
    "                csvF.append(dataSet)\n",
    "                \n",
    "# Opening CSV file and exporting all data set.                \n",
    "with open(newFileName, 'w', newline='') as fp:\n",
    "    a = csv.writer(fp, delimiter=',')\n",
    "    a.writerow([\"Name\", \"City\", \"Country Code\", \"Days\", \"Start\", \"End\"])\n",
    "    a.writerows(csvF)\n",
    "    fp.close()"
   ]
  },
  {
   "cell_type": "code",
   "execution_count": null,
   "metadata": {
    "collapsed": true
   },
   "outputs": [],
   "source": []
  }
 ],
 "metadata": {
  "kernelspec": {
   "display_name": "Python [conda root]",
   "language": "python",
   "name": "conda-root-py"
  },
  "language_info": {
   "codemirror_mode": {
    "name": "ipython",
    "version": 3
   },
   "file_extension": ".py",
   "mimetype": "text/x-python",
   "name": "python",
   "nbconvert_exporter": "python",
   "pygments_lexer": "ipython3",
   "version": "3.5.2"
  }
 },
 "nbformat": 4,
 "nbformat_minor": 1
}
