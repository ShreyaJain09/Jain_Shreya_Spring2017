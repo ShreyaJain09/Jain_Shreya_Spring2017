{
 "cells": [
  {
   "cell_type": "markdown",
   "metadata": {},
   "source": [
    "# Question 5 \n",
    "-Use Gutenberg and Web_text data. Find out what are the top 5 words that Shakespeare used but we do not use in currently. -Take top 50 words from Shakespeare (all 3 books) and top 50 from Web_text (all the records). -Remove punctuation and stop words. \n",
    "-Remove the words we still use today, and get the unused list. Show the top 5 elements."
   ]
  },
  {
   "cell_type": "code",
   "execution_count": 2,
   "metadata": {
    "collapsed": false
   },
   "outputs": [],
   "source": [
    "import nltk"
   ]
  },
  {
   "cell_type": "code",
   "execution_count": 3,
   "metadata": {
    "collapsed": true
   },
   "outputs": [],
   "source": [
    "import string"
   ]
  },
  {
   "cell_type": "code",
   "execution_count": 4,
   "metadata": {
    "collapsed": true
   },
   "outputs": [],
   "source": [
    "from nltk.corpus import gutenberg"
   ]
  },
  {
   "cell_type": "code",
   "execution_count": 5,
   "metadata": {
    "collapsed": true
   },
   "outputs": [],
   "source": [
    "from nltk.corpus import webtext"
   ]
  },
  {
   "cell_type": "code",
   "execution_count": 6,
   "metadata": {
    "collapsed": true
   },
   "outputs": [],
   "source": [
    "from nltk.corpus import stopwords"
   ]
  },
  {
   "cell_type": "code",
   "execution_count": 7,
   "metadata": {
    "collapsed": false
   },
   "outputs": [
    {
     "name": "stdout",
     "output_type": "stream",
     "text": [
      "['austen-emma.txt', 'austen-persuasion.txt', 'austen-sense.txt', 'bible-kjv.txt', 'blake-poems.txt', 'bryant-stories.txt', 'burgess-busterbrown.txt', 'carroll-alice.txt', 'chesterton-ball.txt', 'chesterton-brown.txt', 'chesterton-thursday.txt', 'edgeworth-parents.txt', 'melville-moby_dick.txt', 'milton-paradise.txt', 'shakespeare-caesar.txt', 'shakespeare-hamlet.txt', 'shakespeare-macbeth.txt', 'whitman-leaves.txt']\n"
     ]
    }
   ],
   "source": [
    "files=gutenberg.fileids()\n",
    "print(files)"
   ]
  },
  {
   "cell_type": "code",
   "execution_count": 8,
   "metadata": {
    "collapsed": true
   },
   "outputs": [],
   "source": [
    "words_m = []\n",
    "words_m.extend(nltk.corpus.gutenberg.words('shakespeare-caesar.txt'))\n",
    "words_m.extend(nltk.corpus.gutenberg.words('shakespeare-hamlet.txt'))\n",
    "words_m.extend(nltk.corpus.gutenberg.words('shakespeare-macbeth.txt'))"
   ]
  },
  {
   "cell_type": "code",
   "execution_count": 9,
   "metadata": {
    "collapsed": false
   },
   "outputs": [
    {
     "name": "stdout",
     "output_type": "stream",
     "text": [
      "Top 50 words in Shakespeare: \n",
      "[',', '.', \"'\", ':', '?', ';', 'haue', 'ham', 'thou', 'shall', 'lord', '-', 'come', 'king', 'enter', 'good', 'let', 'thy', 'caesar', 'vs', 'know', 'thee', 'would', 'like', 'vpon', 'brutus', 'bru', 'well', 'hath', 'selfe', 'man', 'may', 'macb', 'yet', 'heere', 'must', 'say', 'tis', 'th', 'speake', 'make', 'loue', 'giue', 'see', 'time', 'night', 'sir', 'one', 'st', 'cassi']\n"
     ]
    }
   ],
   "source": [
    "Sorted_list = []   \n",
    "#words_m = [''.join(c for c in s if c not in set(string.punctuation)) for s in words_m]   \n",
    "#words_m = [x for x in words_m if x]                                                      \n",
    "words_m_lower = []\n",
    "for word in words_m:\n",
    "    words_m_lower.append(word.lower()) \n",
    "\n",
    "words_m_lower = [word for word in words_m_lower if word not in stopwords.words('english')] \n",
    "\n",
    "words_m_freq = {}\n",
    "for word in words_m_lower:              \n",
    "    if word in words_m_freq:\n",
    "        words_m_freq[word] =words_m_freq[word] + 1\n",
    "    else:\n",
    "        words_m_freq[word] = 1\n",
    "#print(words_ss_freq)\n",
    "                                                        \n",
    "sorted_list = sorted(words_m_freq, key=words_m_freq.__getitem__ , reverse= True) \n",
    "top_50_Words = sorted_list[0:50]            \n",
    "print('Top 50 words in Shakespeare: ')\n",
    "print(top_50_Words)"
   ]
  },
  {
   "cell_type": "code",
   "execution_count": null,
   "metadata": {
    "collapsed": true
   },
   "outputs": [],
   "source": []
  }
 ],
 "metadata": {
  "anaconda-cloud": {},
  "kernelspec": {
   "display_name": "Python [conda root]",
   "language": "python",
   "name": "conda-root-py"
  },
  "language_info": {
   "codemirror_mode": {
    "name": "ipython",
    "version": 3
   },
   "file_extension": ".py",
   "mimetype": "text/x-python",
   "name": "python",
   "nbconvert_exporter": "python",
   "pygments_lexer": "ipython3",
   "version": "3.5.2"
  }
 },
 "nbformat": 4,
 "nbformat_minor": 1
}
